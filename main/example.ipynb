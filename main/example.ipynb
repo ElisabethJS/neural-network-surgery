{
 "cells": [
  {
   "cell_type": "markdown",
   "id": "involved-meditation",
   "metadata": {},
   "source": [
    "# Executable example of how to run the Surgeon\n",
    "\n",
    "### Copyright (c) 2021 Schiessler et al.\n",
    "\n",
    "Note that running this file will download a large amount of data. Running the Surgeon potentially requires a \n",
    "large amount of computational resources. If you wish to limit the runtime, modify hyperparameters in the \n",
    "beginning of the NAS.py file accordingly."
   ]
  },
  {
   "cell_type": "markdown",
   "id": "disabled-object",
   "metadata": {},
   "source": [
    "### Required imports"
   ]
  },
  {
   "cell_type": "code",
   "execution_count": 1,
   "id": "vietnamese-remains",
   "metadata": {},
   "outputs": [],
   "source": [
    "# 3rd party packages\n",
    "import numpy as np\n",
    "import tensorflow as tf\n",
    "from tensorflow import keras\n",
    "import tensorflow_datasets as tfds\n",
    "\n",
    "# Surgeon specific packages\n",
    "import NAS"
   ]
  },
  {
   "cell_type": "markdown",
   "id": "composed-bronze",
   "metadata": {},
   "source": [
    "### Data loading and preprocessing"
   ]
  },
  {
   "cell_type": "code",
   "execution_count": 2,
   "id": "intense-closure",
   "metadata": {},
   "outputs": [],
   "source": [
    "seed = 97"
   ]
  },
  {
   "cell_type": "code",
   "execution_count": 3,
   "id": "cordless-contrast",
   "metadata": {},
   "outputs": [],
   "source": [
    "dataset_name = 'eurosat/rgb'\n",
    "split = ['train[:80%]', 'train[80%:]']"
   ]
  },
  {
   "cell_type": "code",
   "execution_count": 4,
   "id": "thousand-publisher",
   "metadata": {},
   "outputs": [],
   "source": [
    "data_dir = '.'"
   ]
  },
  {
   "cell_type": "code",
   "execution_count": 5,
   "id": "advanced-picking",
   "metadata": {},
   "outputs": [],
   "source": [
    "(ds_train, ds_valid), ds_info = tfds.load(dataset_name,\n",
    "                                     data_dir=data_dir,\n",
    "                                     as_supervised=True,\n",
    "                                     shuffle_files=True,\n",
    "                                     with_info=True,\n",
    "                                     split=split,\n",
    "                                     read_config=tfds.ReadConfig(shuffle_seed=seed)) "
   ]
  },
  {
   "cell_type": "code",
   "execution_count": 6,
   "id": "resistant-identification",
   "metadata": {},
   "outputs": [],
   "source": [
    "def preprocess(ds, seed, normalize_fn, shuffle=False, augment_fn=None):\n",
    "    ds = ds.map(normalize_fn, num_parallel_calls=tf.data.experimental.AUTOTUNE)\n",
    "\n",
    "    if shuffle:\n",
    "        ds = ds.cache()\n",
    "        if augment_fn is not None:\n",
    "            ds = ds.map(augment_fn, num_parallel_calls=tf.data.experimental.AUTOTUNE)\n",
    "        ds = ds.shuffle(1000, seed=seed)\n",
    "        ds = ds.batch(32)\n",
    "        if augment_fn is not None:\n",
    "            ds = ds.repeat(2)\n",
    "    else:\n",
    "        ds = ds.batch(32)\n",
    "        ds = ds.cache()\n",
    "\n",
    "    ds = ds.prefetch(tf.data.experimental.AUTOTUNE)\n",
    "\n",
    "    return ds"
   ]
  },
  {
   "cell_type": "code",
   "execution_count": 7,
   "id": "limited-approval",
   "metadata": {},
   "outputs": [],
   "source": [
    "def normalize(image, label):\n",
    "    return tf.cast(image, tf.float32)/255., label"
   ]
  },
  {
   "cell_type": "code",
   "execution_count": 8,
   "id": "nominated-script",
   "metadata": {},
   "outputs": [],
   "source": [
    "def augment(image, label):\n",
    "    image = tf.image.random_flip_left_right(image)\n",
    "    image = tf.image.random_flip_up_down(image)\n",
    "    return image, label"
   ]
  },
  {
   "cell_type": "code",
   "execution_count": 9,
   "id": "terminal-tower",
   "metadata": {},
   "outputs": [],
   "source": [
    "# Perform preprocessing\n",
    "ds_train = preprocess(ds_train, seed, normalize, shuffle=True, augment_fn=None)\n",
    "ds_valid = preprocess(ds_valid, seed, normalize, shuffle=False, augment_fn=None)"
   ]
  },
  {
   "cell_type": "markdown",
   "id": "instrumental-music",
   "metadata": {},
   "source": [
    "### Generate initial model"
   ]
  },
  {
   "cell_type": "code",
   "execution_count": 10,
   "id": "fewer-mining",
   "metadata": {},
   "outputs": [],
   "source": [
    "input_shape = ds_info.features['image'].shape"
   ]
  },
  {
   "cell_type": "code",
   "execution_count": 11,
   "id": "sunset-reproduction",
   "metadata": {},
   "outputs": [],
   "source": [
    "num_classes = ds_info.features['label'].num_classes"
   ]
  },
  {
   "cell_type": "code",
   "execution_count": 12,
   "id": "asian-argentina",
   "metadata": {},
   "outputs": [],
   "source": [
    "hidden_layer_sizes = [10, 10, 10]"
   ]
  },
  {
   "cell_type": "code",
   "execution_count": 13,
   "id": "photographic-ending",
   "metadata": {},
   "outputs": [],
   "source": [
    "model = keras.models.Sequential([keras.layers.Flatten(input_shape=input_shape)])\n",
    "\n",
    "for size in hidden_layer_sizes:\n",
    "    model.add(keras.layers.Dense(size, activation='relu'))\n",
    "    \n",
    "model.add(keras.layers.Dense(num_classes, activation='softmax'))"
   ]
  },
  {
   "cell_type": "code",
   "execution_count": 14,
   "id": "smart-groove",
   "metadata": {},
   "outputs": [],
   "source": [
    "compiler_information={\n",
    "    'loss': keras.losses.sparse_categorical_crossentropy,\n",
    "    'optimizer': keras.optimizers.SGD(learning_rate=0.005),\n",
    "    'metrics':['accuracy']\n",
    "}"
   ]
  },
  {
   "cell_type": "code",
   "execution_count": 15,
   "id": "clean-script",
   "metadata": {},
   "outputs": [],
   "source": [
    "model.compile(loss=compiler_information['loss'],\n",
    "              optimizer=compiler_information['optimizer'],\n",
    "              metrics=compiler_information['metrics'])"
   ]
  },
  {
   "cell_type": "code",
   "execution_count": 16,
   "id": "running-andorra",
   "metadata": {},
   "outputs": [
    {
     "name": "stdout",
     "output_type": "stream",
     "text": [
      "Model: \"sequential\"\n",
      "_________________________________________________________________\n",
      "Layer (type)                 Output Shape              Param #   \n",
      "=================================================================\n",
      "flatten (Flatten)            (None, 12288)             0         \n",
      "_________________________________________________________________\n",
      "dense (Dense)                (None, 10)                122890    \n",
      "_________________________________________________________________\n",
      "dense_1 (Dense)              (None, 10)                110       \n",
      "_________________________________________________________________\n",
      "dense_2 (Dense)              (None, 10)                110       \n",
      "_________________________________________________________________\n",
      "dense_3 (Dense)              (None, 10)                110       \n",
      "=================================================================\n",
      "Total params: 123,220\n",
      "Trainable params: 123,220\n",
      "Non-trainable params: 0\n",
      "_________________________________________________________________\n"
     ]
    }
   ],
   "source": [
    "model.summary()"
   ]
  },
  {
   "cell_type": "markdown",
   "id": "middle-specific",
   "metadata": {},
   "source": [
    "### Prepare and run the Surgeon"
   ]
  },
  {
   "cell_type": "code",
   "execution_count": 17,
   "id": "missing-azerbaijan",
   "metadata": {},
   "outputs": [],
   "source": [
    "data = (ds_train, ds_valid)"
   ]
  },
  {
   "cell_type": "code",
   "execution_count": 18,
   "id": "linear-niagara",
   "metadata": {},
   "outputs": [],
   "source": [
    "nas = NAS.NasTrainer(data, compiler_information, scoring_criterion='val_accuracy')"
   ]
  },
  {
   "cell_type": "code",
   "execution_count": 19,
   "id": "artistic-injury",
   "metadata": {},
   "outputs": [
    {
     "name": "stdout",
     "output_type": "stream",
     "text": [
      "Started run\n",
      "Initial training\n",
      "Current epoch: 11 to 20\n",
      "  19 candidates created\n",
      "..try 1\n",
      "  19 candidates found\n",
      "  7 modifications selected\n",
      "WARNING:tensorflow:5 out of the last 6754 calls to <function Model.make_train_function.<locals>.train_function at 0x000001390115C280> triggered tf.function retracing. Tracing is expensive and the excessive number of tracings could be due to (1) creating @tf.function repeatedly in a loop, (2) passing tensors with different shapes, (3) passing Python objects instead of tensors. For (1), please define your @tf.function outside of the loop. For (2), @tf.function has experimental_relax_shapes=True option that relaxes argument shapes that can avoid unnecessary retracing. For (3), please refer to https://www.tensorflow.org/guide/function#controlling_retracing and https://www.tensorflow.org/api_docs/python/tf/function for  more details.\n"
     ]
    },
    {
     "name": "stderr",
     "output_type": "stream",
     "text": [
      "WARNING:tensorflow:5 out of the last 6754 calls to <function Model.make_train_function.<locals>.train_function at 0x000001390115C280> triggered tf.function retracing. Tracing is expensive and the excessive number of tracings could be due to (1) creating @tf.function repeatedly in a loop, (2) passing tensors with different shapes, (3) passing Python objects instead of tensors. For (1), please define your @tf.function outside of the loop. For (2), @tf.function has experimental_relax_shapes=True option that relaxes argument shapes that can avoid unnecessary retracing. For (3), please refer to https://www.tensorflow.org/guide/function#controlling_retracing and https://www.tensorflow.org/api_docs/python/tf/function for  more details.\n"
     ]
    },
    {
     "name": "stdout",
     "output_type": "stream",
     "text": [
      "  7 modifications allowed\n",
      "  1 modifications kept in current branches\n",
      "Current epoch: 21 to 30\n",
      "  19 candidates created\n",
      "..try 1\n",
      "  19 candidates found\n",
      "  7 modifications selected\n",
      "WARNING:tensorflow:5 out of the last 13503 calls to <function Model.make_train_function.<locals>.train_function at 0x0000013903073700> triggered tf.function retracing. Tracing is expensive and the excessive number of tracings could be due to (1) creating @tf.function repeatedly in a loop, (2) passing tensors with different shapes, (3) passing Python objects instead of tensors. For (1), please define your @tf.function outside of the loop. For (2), @tf.function has experimental_relax_shapes=True option that relaxes argument shapes that can avoid unnecessary retracing. For (3), please refer to https://www.tensorflow.org/guide/function#controlling_retracing and https://www.tensorflow.org/api_docs/python/tf/function for  more details.\n"
     ]
    },
    {
     "name": "stderr",
     "output_type": "stream",
     "text": [
      "WARNING:tensorflow:5 out of the last 13503 calls to <function Model.make_train_function.<locals>.train_function at 0x0000013903073700> triggered tf.function retracing. Tracing is expensive and the excessive number of tracings could be due to (1) creating @tf.function repeatedly in a loop, (2) passing tensors with different shapes, (3) passing Python objects instead of tensors. For (1), please define your @tf.function outside of the loop. For (2), @tf.function has experimental_relax_shapes=True option that relaxes argument shapes that can avoid unnecessary retracing. For (3), please refer to https://www.tensorflow.org/guide/function#controlling_retracing and https://www.tensorflow.org/api_docs/python/tf/function for  more details.\n"
     ]
    },
    {
     "name": "stdout",
     "output_type": "stream",
     "text": [
      "  7 modifications allowed\n",
      "  2 modifications kept in current branches\n",
      "Current epoch: 31 to 40\n",
      "  19 candidates created\n",
      "  25 candidates created\n",
      "..try 1\n",
      "  44 candidates found\n",
      "  8 modifications selected\n",
      "WARNING:tensorflow:5 out of the last 13503 calls to <function Model.make_train_function.<locals>.train_function at 0x00000139088634C0> triggered tf.function retracing. Tracing is expensive and the excessive number of tracings could be due to (1) creating @tf.function repeatedly in a loop, (2) passing tensors with different shapes, (3) passing Python objects instead of tensors. For (1), please define your @tf.function outside of the loop. For (2), @tf.function has experimental_relax_shapes=True option that relaxes argument shapes that can avoid unnecessary retracing. For (3), please refer to https://www.tensorflow.org/guide/function#controlling_retracing and https://www.tensorflow.org/api_docs/python/tf/function for  more details.\n"
     ]
    },
    {
     "name": "stderr",
     "output_type": "stream",
     "text": [
      "WARNING:tensorflow:5 out of the last 13503 calls to <function Model.make_train_function.<locals>.train_function at 0x00000139088634C0> triggered tf.function retracing. Tracing is expensive and the excessive number of tracings could be due to (1) creating @tf.function repeatedly in a loop, (2) passing tensors with different shapes, (3) passing Python objects instead of tensors. For (1), please define your @tf.function outside of the loop. For (2), @tf.function has experimental_relax_shapes=True option that relaxes argument shapes that can avoid unnecessary retracing. For (3), please refer to https://www.tensorflow.org/guide/function#controlling_retracing and https://www.tensorflow.org/api_docs/python/tf/function for  more details.\n"
     ]
    },
    {
     "name": "stdout",
     "output_type": "stream",
     "text": [
      "WARNING:tensorflow:6 out of the last 13504 calls to <function Model.make_train_function.<locals>.train_function at 0x0000013908B2EDC0> triggered tf.function retracing. Tracing is expensive and the excessive number of tracings could be due to (1) creating @tf.function repeatedly in a loop, (2) passing tensors with different shapes, (3) passing Python objects instead of tensors. For (1), please define your @tf.function outside of the loop. For (2), @tf.function has experimental_relax_shapes=True option that relaxes argument shapes that can avoid unnecessary retracing. For (3), please refer to https://www.tensorflow.org/guide/function#controlling_retracing and https://www.tensorflow.org/api_docs/python/tf/function for  more details.\n"
     ]
    },
    {
     "name": "stderr",
     "output_type": "stream",
     "text": [
      "WARNING:tensorflow:6 out of the last 13504 calls to <function Model.make_train_function.<locals>.train_function at 0x0000013908B2EDC0> triggered tf.function retracing. Tracing is expensive and the excessive number of tracings could be due to (1) creating @tf.function repeatedly in a loop, (2) passing tensors with different shapes, (3) passing Python objects instead of tensors. For (1), please define your @tf.function outside of the loop. For (2), @tf.function has experimental_relax_shapes=True option that relaxes argument shapes that can avoid unnecessary retracing. For (3), please refer to https://www.tensorflow.org/guide/function#controlling_retracing and https://www.tensorflow.org/api_docs/python/tf/function for  more details.\n"
     ]
    },
    {
     "name": "stdout",
     "output_type": "stream",
     "text": [
      "  8 modifications allowed\n",
      "  1 modifications kept in current branches\n",
      "Current epoch: 41 to 50\n",
      "  25 candidates created\n",
      "..try 1\n",
      "  25 candidates found\n",
      "  7 modifications selected\n",
      "WARNING:tensorflow:5 out of the last 13503 calls to <function Model.make_train_function.<locals>.train_function at 0x000001390D50C550> triggered tf.function retracing. Tracing is expensive and the excessive number of tracings could be due to (1) creating @tf.function repeatedly in a loop, (2) passing tensors with different shapes, (3) passing Python objects instead of tensors. For (1), please define your @tf.function outside of the loop. For (2), @tf.function has experimental_relax_shapes=True option that relaxes argument shapes that can avoid unnecessary retracing. For (3), please refer to https://www.tensorflow.org/guide/function#controlling_retracing and https://www.tensorflow.org/api_docs/python/tf/function for  more details.\n"
     ]
    },
    {
     "name": "stderr",
     "output_type": "stream",
     "text": [
      "WARNING:tensorflow:5 out of the last 13503 calls to <function Model.make_train_function.<locals>.train_function at 0x000001390D50C550> triggered tf.function retracing. Tracing is expensive and the excessive number of tracings could be due to (1) creating @tf.function repeatedly in a loop, (2) passing tensors with different shapes, (3) passing Python objects instead of tensors. For (1), please define your @tf.function outside of the loop. For (2), @tf.function has experimental_relax_shapes=True option that relaxes argument shapes that can avoid unnecessary retracing. For (3), please refer to https://www.tensorflow.org/guide/function#controlling_retracing and https://www.tensorflow.org/api_docs/python/tf/function for  more details.\n"
     ]
    },
    {
     "name": "stdout",
     "output_type": "stream",
     "text": [
      "  7 modifications allowed\n",
      "  2 modifications kept in current branches\n",
      "Current epoch: 51 to 60\n",
      "  25 candidates created\n",
      "  31 candidates created\n",
      "..try 1\n",
      "  56 candidates found\n",
      "  8 modifications selected\n",
      "WARNING:tensorflow:5 out of the last 13503 calls to <function Model.make_train_function.<locals>.train_function at 0x00000139119E15E0> triggered tf.function retracing. Tracing is expensive and the excessive number of tracings could be due to (1) creating @tf.function repeatedly in a loop, (2) passing tensors with different shapes, (3) passing Python objects instead of tensors. For (1), please define your @tf.function outside of the loop. For (2), @tf.function has experimental_relax_shapes=True option that relaxes argument shapes that can avoid unnecessary retracing. For (3), please refer to https://www.tensorflow.org/guide/function#controlling_retracing and https://www.tensorflow.org/api_docs/python/tf/function for  more details.\n"
     ]
    },
    {
     "name": "stderr",
     "output_type": "stream",
     "text": [
      "WARNING:tensorflow:5 out of the last 13503 calls to <function Model.make_train_function.<locals>.train_function at 0x00000139119E15E0> triggered tf.function retracing. Tracing is expensive and the excessive number of tracings could be due to (1) creating @tf.function repeatedly in a loop, (2) passing tensors with different shapes, (3) passing Python objects instead of tensors. For (1), please define your @tf.function outside of the loop. For (2), @tf.function has experimental_relax_shapes=True option that relaxes argument shapes that can avoid unnecessary retracing. For (3), please refer to https://www.tensorflow.org/guide/function#controlling_retracing and https://www.tensorflow.org/api_docs/python/tf/function for  more details.\n"
     ]
    },
    {
     "name": "stdout",
     "output_type": "stream",
     "text": [
      "WARNING:tensorflow:6 out of the last 13504 calls to <function Model.make_train_function.<locals>.train_function at 0x0000013912CC54C0> triggered tf.function retracing. Tracing is expensive and the excessive number of tracings could be due to (1) creating @tf.function repeatedly in a loop, (2) passing tensors with different shapes, (3) passing Python objects instead of tensors. For (1), please define your @tf.function outside of the loop. For (2), @tf.function has experimental_relax_shapes=True option that relaxes argument shapes that can avoid unnecessary retracing. For (3), please refer to https://www.tensorflow.org/guide/function#controlling_retracing and https://www.tensorflow.org/api_docs/python/tf/function for  more details.\n"
     ]
    },
    {
     "name": "stderr",
     "output_type": "stream",
     "text": [
      "WARNING:tensorflow:6 out of the last 13504 calls to <function Model.make_train_function.<locals>.train_function at 0x0000013912CC54C0> triggered tf.function retracing. Tracing is expensive and the excessive number of tracings could be due to (1) creating @tf.function repeatedly in a loop, (2) passing tensors with different shapes, (3) passing Python objects instead of tensors. For (1), please define your @tf.function outside of the loop. For (2), @tf.function has experimental_relax_shapes=True option that relaxes argument shapes that can avoid unnecessary retracing. For (3), please refer to https://www.tensorflow.org/guide/function#controlling_retracing and https://www.tensorflow.org/api_docs/python/tf/function for  more details.\n"
     ]
    },
    {
     "name": "stdout",
     "output_type": "stream",
     "text": [
      "  8 modifications allowed\n",
      "  1 modifications kept in current branches\n",
      "Current epoch: 61 to 70\n",
      "  25 candidates created\n",
      "..try 1\n",
      "  25 candidates found\n",
      "  7 modifications selected\n",
      "WARNING:tensorflow:5 out of the last 13503 calls to <function Model.make_train_function.<locals>.train_function at 0x00000139171D45E0> triggered tf.function retracing. Tracing is expensive and the excessive number of tracings could be due to (1) creating @tf.function repeatedly in a loop, (2) passing tensors with different shapes, (3) passing Python objects instead of tensors. For (1), please define your @tf.function outside of the loop. For (2), @tf.function has experimental_relax_shapes=True option that relaxes argument shapes that can avoid unnecessary retracing. For (3), please refer to https://www.tensorflow.org/guide/function#controlling_retracing and https://www.tensorflow.org/api_docs/python/tf/function for  more details.\n"
     ]
    },
    {
     "name": "stderr",
     "output_type": "stream",
     "text": [
      "WARNING:tensorflow:5 out of the last 13503 calls to <function Model.make_train_function.<locals>.train_function at 0x00000139171D45E0> triggered tf.function retracing. Tracing is expensive and the excessive number of tracings could be due to (1) creating @tf.function repeatedly in a loop, (2) passing tensors with different shapes, (3) passing Python objects instead of tensors. For (1), please define your @tf.function outside of the loop. For (2), @tf.function has experimental_relax_shapes=True option that relaxes argument shapes that can avoid unnecessary retracing. For (3), please refer to https://www.tensorflow.org/guide/function#controlling_retracing and https://www.tensorflow.org/api_docs/python/tf/function for  more details.\n"
     ]
    },
    {
     "name": "stdout",
     "output_type": "stream",
     "text": [
      "  7 modifications allowed\n",
      "..try 2\n",
      "  18 candidates found\n",
      "  6 modifications selected\n",
      "  6 modifications allowed\n",
      "  1 modifications kept in current branches\n",
      "Current epoch: 71 to 80\n",
      "  31 candidates created\n",
      "..try 1\n",
      "  31 candidates found\n",
      "  7 modifications selected\n",
      "WARNING:tensorflow:5 out of the last 13503 calls to <function Model.make_train_function.<locals>.train_function at 0x000001391E437700> triggered tf.function retracing. Tracing is expensive and the excessive number of tracings could be due to (1) creating @tf.function repeatedly in a loop, (2) passing tensors with different shapes, (3) passing Python objects instead of tensors. For (1), please define your @tf.function outside of the loop. For (2), @tf.function has experimental_relax_shapes=True option that relaxes argument shapes that can avoid unnecessary retracing. For (3), please refer to https://www.tensorflow.org/guide/function#controlling_retracing and https://www.tensorflow.org/api_docs/python/tf/function for  more details.\n"
     ]
    },
    {
     "name": "stderr",
     "output_type": "stream",
     "text": [
      "WARNING:tensorflow:5 out of the last 13503 calls to <function Model.make_train_function.<locals>.train_function at 0x000001391E437700> triggered tf.function retracing. Tracing is expensive and the excessive number of tracings could be due to (1) creating @tf.function repeatedly in a loop, (2) passing tensors with different shapes, (3) passing Python objects instead of tensors. For (1), please define your @tf.function outside of the loop. For (2), @tf.function has experimental_relax_shapes=True option that relaxes argument shapes that can avoid unnecessary retracing. For (3), please refer to https://www.tensorflow.org/guide/function#controlling_retracing and https://www.tensorflow.org/api_docs/python/tf/function for  more details.\n"
     ]
    },
    {
     "name": "stdout",
     "output_type": "stream",
     "text": [
      "  7 modifications allowed\n",
      "  1 modifications kept in current branches\n",
      "Current epoch: 81 to 90\n",
      "  37 candidates created\n",
      "..try 1\n",
      "  37 candidates found\n",
      "  7 modifications selected\n",
      "WARNING:tensorflow:5 out of the last 13512 calls to <function Model.make_train_function.<locals>.train_function at 0x000001392149ADC0> triggered tf.function retracing. Tracing is expensive and the excessive number of tracings could be due to (1) creating @tf.function repeatedly in a loop, (2) passing tensors with different shapes, (3) passing Python objects instead of tensors. For (1), please define your @tf.function outside of the loop. For (2), @tf.function has experimental_relax_shapes=True option that relaxes argument shapes that can avoid unnecessary retracing. For (3), please refer to https://www.tensorflow.org/guide/function#controlling_retracing and https://www.tensorflow.org/api_docs/python/tf/function for  more details.\n"
     ]
    },
    {
     "name": "stderr",
     "output_type": "stream",
     "text": [
      "WARNING:tensorflow:5 out of the last 13512 calls to <function Model.make_train_function.<locals>.train_function at 0x000001392149ADC0> triggered tf.function retracing. Tracing is expensive and the excessive number of tracings could be due to (1) creating @tf.function repeatedly in a loop, (2) passing tensors with different shapes, (3) passing Python objects instead of tensors. For (1), please define your @tf.function outside of the loop. For (2), @tf.function has experimental_relax_shapes=True option that relaxes argument shapes that can avoid unnecessary retracing. For (3), please refer to https://www.tensorflow.org/guide/function#controlling_retracing and https://www.tensorflow.org/api_docs/python/tf/function for  more details.\n"
     ]
    },
    {
     "name": "stdout",
     "output_type": "stream",
     "text": [
      "  7 modifications allowed\n",
      "  1 modifications kept in current branches\n",
      "Current epoch: 91 to 100\n",
      "  43 candidates created\n",
      "..try 1\n",
      "  43 candidates found\n",
      "  7 modifications selected\n",
      "WARNING:tensorflow:5 out of the last 13503 calls to <function Model.make_train_function.<locals>.train_function at 0x000001392713A1F0> triggered tf.function retracing. Tracing is expensive and the excessive number of tracings could be due to (1) creating @tf.function repeatedly in a loop, (2) passing tensors with different shapes, (3) passing Python objects instead of tensors. For (1), please define your @tf.function outside of the loop. For (2), @tf.function has experimental_relax_shapes=True option that relaxes argument shapes that can avoid unnecessary retracing. For (3), please refer to https://www.tensorflow.org/guide/function#controlling_retracing and https://www.tensorflow.org/api_docs/python/tf/function for  more details.\n"
     ]
    },
    {
     "name": "stderr",
     "output_type": "stream",
     "text": [
      "WARNING:tensorflow:5 out of the last 13503 calls to <function Model.make_train_function.<locals>.train_function at 0x000001392713A1F0> triggered tf.function retracing. Tracing is expensive and the excessive number of tracings could be due to (1) creating @tf.function repeatedly in a loop, (2) passing tensors with different shapes, (3) passing Python objects instead of tensors. For (1), please define your @tf.function outside of the loop. For (2), @tf.function has experimental_relax_shapes=True option that relaxes argument shapes that can avoid unnecessary retracing. For (3), please refer to https://www.tensorflow.org/guide/function#controlling_retracing and https://www.tensorflow.org/api_docs/python/tf/function for  more details.\n"
     ]
    },
    {
     "name": "stdout",
     "output_type": "stream",
     "text": [
      "  7 modifications allowed\n",
      "  1 modifications kept in current branches\n",
      "  1 modifications allowed\n"
     ]
    }
   ],
   "source": [
    "optimized_modification = nas.run(model, random_only=False, verbose=2)"
   ]
  },
  {
   "cell_type": "code",
   "execution_count": 20,
   "id": "touched-yukon",
   "metadata": {},
   "outputs": [],
   "source": [
    "# verbose parameter controls how much information the Surgeon displays. Note that even when set to 0,\n",
    "# some tensorflow warnings will still be triggered and can't be suppressed, which is due to a bug in\n",
    "# the current tensorflow package"
   ]
  },
  {
   "cell_type": "markdown",
   "id": "white-falls",
   "metadata": {},
   "source": [
    "### Information that can be accessed after running the Surgeon\n",
    "\n",
    "(examples, see Modification.py for all details)"
   ]
  },
  {
   "cell_type": "code",
   "execution_count": 21,
   "id": "vietnamese-vietnamese",
   "metadata": {},
   "outputs": [
    {
     "data": {
      "text/plain": [
       "Modification.Modification"
      ]
     },
     "execution_count": 21,
     "metadata": {},
     "output_type": "execute_result"
    }
   ],
   "source": [
    "type(optimized_modification)"
   ]
  },
  {
   "cell_type": "code",
   "execution_count": 22,
   "id": "ultimate-homework",
   "metadata": {},
   "outputs": [
    {
     "data": {
      "text/plain": [
       "tensorflow.python.keras.engine.sequential.Sequential"
      ]
     },
     "execution_count": 22,
     "metadata": {},
     "output_type": "execute_result"
    }
   ],
   "source": [
    "type(optimized_modification.model)"
   ]
  },
  {
   "cell_type": "code",
   "execution_count": 23,
   "id": "quantitative-mixture",
   "metadata": {},
   "outputs": [
    {
     "name": "stdout",
     "output_type": "stream",
     "text": [
      "Model: \"sequential\"\n",
      "_________________________________________________________________\n",
      "Layer (type)                 Output Shape              Param #   \n",
      "=================================================================\n",
      "flatten (Flatten)            (None, 12288)             0         \n",
      "_________________________________________________________________\n",
      "dense (Dense)                (None, 10)                122890    \n",
      "_________________________________________________________________\n",
      "dense_1 (Dense)              (None, 12)                132       \n",
      "_________________________________________________________________\n",
      "dense_4 (Dense)              (None, 27)                324       \n",
      "_________________________________________________________________\n",
      "dense_5 (Dense)              (None, 7)                 189       \n",
      "_________________________________________________________________\n",
      "dense_6 (Dense)              (None, 7)                 56        \n",
      "_________________________________________________________________\n",
      "dense_7 (Dense)              (None, 7)                 56        \n",
      "_________________________________________________________________\n",
      "dense_2 (Dense)              (None, 12)                96        \n",
      "_________________________________________________________________\n",
      "dense_3 (Dense)              (None, 10)                130       \n",
      "=================================================================\n",
      "Total params: 123,873\n",
      "Trainable params: 123,873\n",
      "Non-trainable params: 0\n",
      "_________________________________________________________________\n"
     ]
    }
   ],
   "source": [
    "optimized_modification.summary()"
   ]
  },
  {
   "cell_type": "code",
   "execution_count": 24,
   "id": "broke-ballot",
   "metadata": {},
   "outputs": [
    {
     "data": {
      "text/plain": [
       "'B ~ EP 11 AN2 dense_1** ~ EP 21 T3 dense_2 ~ EP 31 B ~ EP 41 AN20 dense_4 ~ EP 51 B ~ EP 61 T3 dense_2 ~ EP 71 AL dense_5 ~ EP 81 AL dense_6 ~ EP 91 AN2 dense_2**'"
      ]
     },
     "execution_count": 24,
     "metadata": {},
     "output_type": "execute_result"
    }
   ],
   "source": [
    "optimized_modification.description"
   ]
  },
  {
   "cell_type": "code",
   "execution_count": 25,
   "id": "acute-english",
   "metadata": {},
   "outputs": [
    {
     "data": {
      "text/plain": [
       "[0.2124074101448059,\n",
       " 0.27759259939193726,\n",
       " 0.3127777874469757,\n",
       " 0.3253703713417053,\n",
       " 0.35092592239379883,\n",
       " 0.3453703820705414,\n",
       " 0.3190740644931793,\n",
       " 0.30259260535240173,\n",
       " 0.37962964177131653,\n",
       " 0.3853703737258911,\n",
       " 0.378888875246048,\n",
       " 0.3570370376110077,\n",
       " 0.385740727186203,\n",
       " 0.3866666555404663,\n",
       " 0.4125925898551941,\n",
       " 0.38740742206573486,\n",
       " 0.419259250164032,\n",
       " 0.41499999165534973,\n",
       " 0.43037036061286926,\n",
       " 0.44296297430992126,\n",
       " 0.45629629492759705,\n",
       " 0.4501851797103882,\n",
       " 0.465925931930542,\n",
       " 0.4098148047924042,\n",
       " 0.4005555510520935,\n",
       " 0.4653703570365906,\n",
       " 0.443148136138916,\n",
       " 0.44203704595565796,\n",
       " 0.46666666865348816,\n",
       " 0.4605555534362793,\n",
       " 0.482962965965271,\n",
       " 0.47203704714775085,\n",
       " 0.47648146748542786,\n",
       " 0.4770370423793793,\n",
       " 0.503333330154419,\n",
       " 0.3829629719257355,\n",
       " 0.46000000834465027,\n",
       " 0.48462963104248047,\n",
       " 0.4940740764141083,\n",
       " 0.4964814782142639,\n",
       " 0.4905555546283722,\n",
       " 0.502407431602478,\n",
       " 0.489259272813797,\n",
       " 0.5135185122489929,\n",
       " 0.4861111044883728,\n",
       " 0.46666666865348816,\n",
       " 0.49259260296821594,\n",
       " 0.466481477022171,\n",
       " 0.5007407665252686,\n",
       " 0.4901851713657379,\n",
       " 0.5009258985519409,\n",
       " 0.5020370483398438,\n",
       " 0.4677777886390686,\n",
       " 0.49574074149131775,\n",
       " 0.5274074077606201,\n",
       " 0.5212963223457336,\n",
       " 0.5042592883110046,\n",
       " 0.5040740966796875,\n",
       " 0.476666659116745,\n",
       " 0.4942592680454254,\n",
       " 0.5120370388031006,\n",
       " 0.5298148393630981,\n",
       " 0.4990740716457367,\n",
       " 0.5140740871429443,\n",
       " 0.5357407331466675,\n",
       " 0.5251851677894592,\n",
       " 0.5338888764381409,\n",
       " 0.5242592692375183,\n",
       " 0.519444465637207,\n",
       " 0.5298148393630981,\n",
       " 0.5248148441314697,\n",
       " 0.5172222256660461,\n",
       " 0.5370370149612427,\n",
       " 0.5348148345947266,\n",
       " 0.5190740823745728,\n",
       " 0.5368518233299255,\n",
       " 0.5450000166893005,\n",
       " 0.5342592597007751,\n",
       " 0.5248148441314697,\n",
       " 0.5157407522201538,\n",
       " 0.5144444704055786,\n",
       " 0.5383333563804626,\n",
       " 0.5370370149612427,\n",
       " 0.54666668176651,\n",
       " 0.5424073934555054,\n",
       " 0.4861111044883728,\n",
       " 0.5411111116409302,\n",
       " 0.5422222018241882,\n",
       " 0.4883333444595337,\n",
       " 0.550000011920929,\n",
       " 0.534074068069458,\n",
       " 0.5262963175773621,\n",
       " 0.5548148155212402,\n",
       " 0.5440740585327148,\n",
       " 0.5440740585327148,\n",
       " 0.5600000023841858,\n",
       " 0.5012962818145752,\n",
       " 0.5551851987838745,\n",
       " 0.5462962985038757,\n",
       " 0.5483333468437195,\n",
       " 0.5257407426834106,\n",
       " 0.5279629826545715,\n",
       " 0.5453703999519348,\n",
       " 0.551111102104187,\n",
       " 0.5411111116409302,\n",
       " 0.4933333396911621,\n",
       " 0.515925943851471,\n",
       " 0.5537037253379822,\n",
       " 0.5559259057044983]"
      ]
     },
     "execution_count": 25,
     "metadata": {},
     "output_type": "execute_result"
    }
   ],
   "source": [
    "optimized_modification.history['val_accuracy']"
   ]
  },
  {
   "cell_type": "code",
   "execution_count": null,
   "id": "understanding-intranet",
   "metadata": {},
   "outputs": [],
   "source": []
  }
 ],
 "metadata": {
  "kernelspec": {
   "display_name": "Python 3",
   "language": "python",
   "name": "python3"
  },
  "language_info": {
   "codemirror_mode": {
    "name": "ipython",
    "version": 3
   },
   "file_extension": ".py",
   "mimetype": "text/x-python",
   "name": "python",
   "nbconvert_exporter": "python",
   "pygments_lexer": "ipython3",
   "version": "3.8.5"
  }
 },
 "nbformat": 4,
 "nbformat_minor": 5
}
